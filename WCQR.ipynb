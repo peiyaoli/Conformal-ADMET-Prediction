{
 "cells": [
  {
   "cell_type": "code",
   "execution_count": 1,
   "metadata": {},
   "outputs": [],
   "source": [
    "import pickle\n",
    "import numpy as np\n",
    "import pandas as pd\n",
    "import matplotlib.pyplot as plt\n",
    "\n",
    "%matplotlib inline"
   ]
  },
  {
   "cell_type": "code",
   "execution_count": 2,
   "metadata": {},
   "outputs": [],
   "source": [
    "with open(\"./experiments/VDss_Liu2022/IVIT/QR/fold_0/CQR_tmp.pkl\", \"rb\") as fp:\n",
    "    tmp = pickle.load(fp)"
   ]
  },
  {
   "cell_type": "code",
   "execution_count": 3,
   "metadata": {},
   "outputs": [],
   "source": [
    "quantiles = tmp[\"quantiles\"]\n",
    "y_preds_val = tmp[\"y_preds_val\"]\n",
    "y_latns_val = tmp[\"y_latns_val\"]\n",
    "y_true_val = tmp[\"y_true_val\"]\n",
    "y_preds_test = tmp[\"y_preds_test\"]\n",
    "y_latns_test = tmp[\"y_latns_test\"]\n",
    "y_true_test = tmp[\"y_true_test\"]"
   ]
  },
  {
   "cell_type": "code",
   "execution_count": 4,
   "metadata": {},
   "outputs": [],
   "source": [
    "n_test = y_true_test.shape[0]"
   ]
  },
  {
   "cell_type": "code",
   "execution_count": 34,
   "metadata": {},
   "outputs": [],
   "source": [
    "y_pis_test = y_preds_test[:, [1, -2]]"
   ]
  },
  {
   "cell_type": "code",
   "execution_count": 35,
   "metadata": {},
   "outputs": [],
   "source": [
    "x = np.arange(n_test)\n",
    "idx = np.argsort(y_true_test, axis=0)\n",
    "y_true_test_sorted = np.take_along_axis(y_true_test, idx, axis=0)\n",
    "y_pis_test_sorted = np.take_along_axis(y_pis_test, idx, axis=0)"
   ]
  },
  {
   "cell_type": "code",
   "execution_count": 36,
   "metadata": {},
   "outputs": [
    {
     "data": {
      "text/plain": [
       "array([[-1.812075  , -0.33870664],\n",
       "       [-1.6946696 , -0.7384956 ],\n",
       "       [-1.5303066 , -0.06695057],\n",
       "       [-1.6972368 , -0.24232602],\n",
       "       [-1.5746874 ,  0.13196023],\n",
       "       [-1.6806129 , -0.2061213 ],\n",
       "       [-1.5655712 , -0.7070032 ],\n",
       "       [-1.6656357 , -0.06119005],\n",
       "       [-1.7073883 , -0.05493537],\n",
       "       [-1.7376336 , -0.08774981],\n",
       "       [-1.1580191 ,  0.66873026],\n",
       "       [-1.7147737 , -0.6762233 ],\n",
       "       [-1.4350834 ,  0.12215517],\n",
       "       [-1.7199385 , -0.58161485],\n",
       "       [-1.2313718 ,  0.32158995],\n",
       "       [-1.7477801 , -0.15052825],\n",
       "       [-1.8634142 , -0.38348782],\n",
       "       [-1.7216628 , -0.76521325],\n",
       "       [-0.8954454 ,  1.0289773 ],\n",
       "       [-1.3136193 ,  0.37483642],\n",
       "       [-1.7125264 , -0.79192924],\n",
       "       [-1.4207851 ,  0.31097323],\n",
       "       [-1.499872  , -0.56593806],\n",
       "       [-1.4497213 ,  0.28912508],\n",
       "       [-1.408889  , -0.1085622 ],\n",
       "       [-1.5866836 , -0.47768018],\n",
       "       [-1.528835  , -0.7130141 ],\n",
       "       [-1.602935  , -0.6004617 ],\n",
       "       [-1.731919  , -0.2006931 ],\n",
       "       [-1.5772296 , -0.60623026],\n",
       "       [-1.696698  , -0.6617028 ],\n",
       "       [-0.69844097,  1.2269276 ],\n",
       "       [-1.0231992 ,  0.6639597 ],\n",
       "       [-1.6553808 , -0.7366609 ],\n",
       "       [-1.499314  , -0.27002326],\n",
       "       [-1.6618273 , -0.30766523],\n",
       "       [-1.5648367 , -0.4947718 ],\n",
       "       [-1.5996099 , -0.7855642 ],\n",
       "       [-1.585449  , -0.4657805 ],\n",
       "       [-1.6823869 , -0.679868  ],\n",
       "       [-1.6788452 , -0.45590004],\n",
       "       [-1.6619114 , -0.5121138 ],\n",
       "       [-1.0514873 ,  0.6364313 ],\n",
       "       [-1.5242524 , -0.5741079 ],\n",
       "       [-1.5848869 , -0.5221734 ],\n",
       "       [-1.5677942 , -0.3863643 ],\n",
       "       [-1.4861513 , -0.03979943],\n",
       "       [-1.5023798 , -0.26686054],\n",
       "       [-1.6709563 , -0.69332206],\n",
       "       [-1.5060166 , -0.38641614],\n",
       "       [-1.6475359 , -0.51107794],\n",
       "       [-1.3273119 ,  0.4792736 ],\n",
       "       [-0.84622586,  0.93803996],\n",
       "       [-1.6383952 , -0.71705276],\n",
       "       [-1.6468891 , -0.6866217 ],\n",
       "       [-1.6177622 , -0.68843925],\n",
       "       [-1.3555543 , -0.4043938 ],\n",
       "       [-1.4936817 , -0.538342  ],\n",
       "       [-1.5709457 , -0.39468995],\n",
       "       [-0.42201614,  1.3421091 ],\n",
       "       [-1.1731949 , -0.20475167],\n",
       "       [-1.874756  , -0.30491582],\n",
       "       [-0.78604656,  1.0132775 ],\n",
       "       [-1.4946078 , -0.71851665],\n",
       "       [-1.3483127 ,  0.45164633],\n",
       "       [-1.2856952 ,  0.23035224],\n",
       "       [-1.3794072 ,  0.15804055],\n",
       "       [-1.1152856 ,  0.8035327 ],\n",
       "       [-1.0220623 ,  1.1386691 ],\n",
       "       [-0.6518109 ,  1.2901578 ],\n",
       "       [-1.1613482 ,  0.62366605],\n",
       "       [-0.9809702 ,  0.7918021 ],\n",
       "       [-1.0029991 ,  0.68106294],\n",
       "       [-0.9704859 ,  0.7758783 ],\n",
       "       [-1.4505167 , -0.23753434],\n",
       "       [-0.5922899 ,  1.0864578 ],\n",
       "       [-0.71801865,  1.1938094 ],\n",
       "       [-1.530624  , -0.04761485],\n",
       "       [-1.7893258 , -0.7903527 ],\n",
       "       [-1.3329544 ,  0.66606075],\n",
       "       [-1.4048997 , -0.49019477],\n",
       "       [-1.2613354 ,  0.05817386],\n",
       "       [-0.8793413 ,  1.0531917 ],\n",
       "       [-0.82657295,  0.8812399 ],\n",
       "       [-0.8285929 ,  0.9270697 ],\n",
       "       [-0.6198415 ,  1.2698864 ],\n",
       "       [-1.5676368 ,  0.3435998 ],\n",
       "       [-1.1879646 ,  0.61005634],\n",
       "       [-1.7338693 , -0.46522874],\n",
       "       [-0.2489015 ,  1.6616286 ],\n",
       "       [-1.0876813 ,  0.49636403],\n",
       "       [-0.5027921 ,  1.3670374 ],\n",
       "       [-1.5690103 ,  0.61627924],\n",
       "       [-0.07304417,  1.846002  ],\n",
       "       [-1.2084919 ,  0.60488707],\n",
       "       [-1.1769806 ,  0.17030767],\n",
       "       [-0.9521253 ,  0.7269739 ],\n",
       "       [-0.33726305,  1.7033503 ],\n",
       "       [-1.4566754 ,  0.03814799],\n",
       "       [-1.0323453 ,  0.21744274],\n",
       "       [-0.69938797,  1.190659  ],\n",
       "       [-1.2049291 ,  0.2358825 ],\n",
       "       [-1.5096718 ,  0.37075633],\n",
       "       [-1.1177908 ,  0.70665276],\n",
       "       [-0.80175036,  1.0969846 ],\n",
       "       [-1.5358558 ,  0.13190311],\n",
       "       [-0.8303471 ,  1.038059  ],\n",
       "       [-1.4115582 , -0.12341769],\n",
       "       [-1.098415  ,  0.88005173],\n",
       "       [-0.7557638 ,  1.0835686 ],\n",
       "       [-1.0313269 ,  0.06908663],\n",
       "       [-0.8548559 ,  0.93330365],\n",
       "       [-0.731668  ,  1.1292001 ],\n",
       "       [-1.3421366 ,  0.7154804 ],\n",
       "       [-1.3308858 ,  0.7078176 ],\n",
       "       [-1.3649627 ,  0.10357615],\n",
       "       [-0.08209201,  2.0172596 ],\n",
       "       [-0.4436743 ,  1.3408228 ],\n",
       "       [-0.63682276,  1.3439398 ],\n",
       "       [-0.7375689 ,  1.2732849 ],\n",
       "       [-0.7620198 ,  0.99082166],\n",
       "       [-1.200515  , -0.06032299],\n",
       "       [-0.7409317 ,  1.0734707 ],\n",
       "       [-0.8664991 ,  0.9536543 ],\n",
       "       [-1.3248868 ,  0.16739708],\n",
       "       [-1.1993611 ,  0.7859738 ],\n",
       "       [-0.6596407 ,  1.2001675 ],\n",
       "       [-0.6429556 ,  1.238719  ],\n",
       "       [-0.8261787 ,  1.1613754 ],\n",
       "       [-1.3600725 ,  0.04603398],\n",
       "       [-1.1893896 ,  0.6164729 ],\n",
       "       [-0.7886782 ,  1.2019424 ],\n",
       "       [-0.79855925,  0.72770905],\n",
       "       [-0.2745176 ,  1.7170645 ],\n",
       "       [-0.27229366,  1.6133821 ],\n",
       "       [-1.2962545 ,  0.43611428],\n",
       "       [-0.803204  ,  1.025216  ],\n",
       "       [-0.39902458,  1.6414868 ],\n",
       "       [-0.9189651 ,  0.8568841 ],\n",
       "       [-0.81987697,  0.7223766 ],\n",
       "       [-0.8863197 ,  0.6593889 ],\n",
       "       [-0.59985954,  1.506272  ],\n",
       "       [-0.25414237,  1.7320611 ],\n",
       "       [-0.21495901,  1.8903279 ],\n",
       "       [-0.6097925 ,  1.552596  ],\n",
       "       [-1.0979837 ,  0.49175268],\n",
       "       [-0.885864  ,  1.1537749 ],\n",
       "       [-0.6455776 ,  1.2424427 ],\n",
       "       [-1.0850835 ,  0.70787686],\n",
       "       [-1.019662  ,  0.99445844],\n",
       "       [-0.8196999 ,  1.2119433 ],\n",
       "       [-0.00337116,  2.000645  ],\n",
       "       [-0.8218716 ,  1.2365826 ],\n",
       "       [-0.33468652,  1.6046842 ],\n",
       "       [-1.0362458 ,  0.7855192 ],\n",
       "       [-1.4612691 ,  0.6537371 ],\n",
       "       [-0.09271306,  1.9583836 ],\n",
       "       [-1.6882805 , -0.07606407],\n",
       "       [-1.1048845 ,  0.7550802 ],\n",
       "       [-0.62280124,  1.302053  ],\n",
       "       [-0.713507  ,  1.2276236 ],\n",
       "       [-0.9922926 ,  0.93020886],\n",
       "       [-1.4648505 ,  0.18656917],\n",
       "       [-0.6811122 ,  1.181413  ],\n",
       "       [-1.0868739 ,  0.5496168 ],\n",
       "       [-0.29217884,  1.6724136 ],\n",
       "       [-0.9680055 ,  0.7320352 ],\n",
       "       [-0.5457801 ,  1.1557839 ],\n",
       "       [-0.9763582 ,  0.8052095 ],\n",
       "       [-0.84768087,  0.8277645 ],\n",
       "       [-0.2564865 ,  1.650273  ],\n",
       "       [-1.3668426 ,  0.44031444],\n",
       "       [-1.0786266 ,  0.9169805 ],\n",
       "       [-0.14628041,  1.8315747 ],\n",
       "       [-1.6710471 ,  0.02786854],\n",
       "       [-1.5207604 ,  0.39105892],\n",
       "       [-1.5302156 ,  0.39713886],\n",
       "       [-0.55871844,  1.6593055 ],\n",
       "       [-1.0308446 ,  0.48922592],\n",
       "       [-0.27689853,  1.7546216 ],\n",
       "       [-0.5151759 ,  1.805444  ],\n",
       "       [-1.3775412 ,  0.35342062],\n",
       "       [-1.392653  ,  0.56714135],\n",
       "       [-0.5088299 ,  1.2814088 ],\n",
       "       [-1.3558178 ,  0.58900195],\n",
       "       [-0.16679926,  1.9387982 ],\n",
       "       [-0.23716803,  1.8237936 ],\n",
       "       [-1.4347682 ,  0.01652389],\n",
       "       [-0.22492856,  1.7809575 ],\n",
       "       [-0.2255692 ,  1.9332727 ],\n",
       "       [-0.3208373 ,  1.644239  ],\n",
       "       [-0.883223  ,  1.1724288 ],\n",
       "       [-0.49744907,  1.2850349 ],\n",
       "       [-0.525959  ,  1.2605928 ],\n",
       "       [-0.25423786,  1.8016214 ],\n",
       "       [-0.3172302 ,  1.7158856 ],\n",
       "       [-0.31867653,  1.7000095 ],\n",
       "       [-0.3471771 ,  1.6213123 ],\n",
       "       [-0.39094165,  1.669971  ],\n",
       "       [-0.83063203,  1.0788237 ],\n",
       "       [-0.5895472 ,  1.400445  ],\n",
       "       [-0.7223184 ,  1.3046292 ],\n",
       "       [-0.9991628 ,  0.8087275 ],\n",
       "       [-1.0943172 ,  0.6905717 ],\n",
       "       [-0.3758599 ,  1.3975871 ],\n",
       "       [-0.28661227,  1.6868467 ],\n",
       "       [-0.47165695,  1.8207263 ],\n",
       "       [-0.3649993 ,  1.6347407 ],\n",
       "       [-1.0323867 ,  0.71561885],\n",
       "       [-1.166935  ,  0.75270736],\n",
       "       [-0.7553139 ,  0.91776615],\n",
       "       [-0.31530657,  1.7012085 ],\n",
       "       [-1.0331151 ,  0.8159401 ],\n",
       "       [ 0.09005253,  1.9207844 ],\n",
       "       [-1.1122828 ,  0.34547213],\n",
       "       [-0.205454  ,  1.7338762 ],\n",
       "       [-0.40346172,  1.8194376 ],\n",
       "       [-0.4559789 ,  1.5381136 ],\n",
       "       [-0.56800646,  1.4225928 ],\n",
       "       [-0.9578614 ,  0.8140395 ],\n",
       "       [-0.32753903,  1.830821  ],\n",
       "       [-0.23158194,  1.9097476 ],\n",
       "       [-0.10611902,  2.0625658 ],\n",
       "       [-0.2677065 ,  1.6382093 ],\n",
       "       [-0.1137173 ,  2.0196607 ],\n",
       "       [ 0.04401593,  2.0909736 ],\n",
       "       [-0.8357319 ,  0.9259484 ],\n",
       "       [-0.08497061,  2.1515312 ],\n",
       "       [-1.2632958 ,  0.48143426],\n",
       "       [-0.4483566 ,  1.519225  ],\n",
       "       [-0.07971059,  1.957431  ],\n",
       "       [-0.6310703 ,  1.1208199 ],\n",
       "       [-0.6256757 ,  1.1197399 ],\n",
       "       [ 0.01577288,  2.1780202 ],\n",
       "       [-0.49620953,  1.5325226 ],\n",
       "       [-0.01297871,  2.2573276 ],\n",
       "       [-0.11552735,  1.9191141 ],\n",
       "       [-0.1684275 ,  1.9814242 ],\n",
       "       [-0.16098695,  1.9622126 ],\n",
       "       [-0.7320763 ,  1.0938693 ],\n",
       "       [-0.49489135,  1.3383951 ],\n",
       "       [-0.24590027,  2.0313833 ],\n",
       "       [-0.8045982 ,  1.1179451 ]], dtype=float32)"
      ]
     },
     "execution_count": 36,
     "metadata": {},
     "output_type": "execute_result"
    }
   ],
   "source": [
    "y_pis_test_sorted"
   ]
  },
  {
   "cell_type": "code",
   "execution_count": 37,
   "metadata": {},
   "outputs": [
    {
     "data": {
      "text/plain": [
       "<matplotlib.collections.PathCollection at 0x14b12e13ee20>"
      ]
     },
     "execution_count": 37,
     "metadata": {},
     "output_type": "execute_result"
    },
    {
     "data": {
      "image/png": "[encoded data removed]",
      "text/plain": [
       "<Figure size 640x480 with 1 Axes>"
      ]
     },
     "metadata": {},
     "output_type": "display_data"
    }
   ],
   "source": [
    "plt.scatter(x=x, y=y_true_test_sorted, label=\"True value\")\n",
    "plt.scatter(x, y_pis_test_sorted[:, 0], label='Q10')\n",
    "plt.scatter(x, y_pis_test_sorted[:, 1], label='Q90')"
   ]
  },
  {
   "cell_type": "code",
   "execution_count": 31,
   "metadata": {},
   "outputs": [],
   "source": [
    "y_pis_val = y_preds_val[:, [0, -1]]\n",
    "y_pis_test = y_preds_test[:, [0, -1]]"
   ]
  },
  {
   "cell_type": "code",
   "execution_count": 32,
   "metadata": {},
   "outputs": [],
   "source": [
    "def evaluate_icp(pred, Y):\n",
    "    # Extract lower and upper prediction bands\n",
    "    pred_l = np.min(pred,1)\n",
    "    pred_h = np.max(pred,1)\n",
    "    # Marginal coverage\n",
    "    cover = (Y>=pred_l)*(Y<=pred_h)\n",
    "    marg_coverage = np.mean(cover)\n",
    "    # if X is None:\n",
    "    #     wsc_coverage = None\n",
    "    # else:\n",
    "    #     # Estimated conditional coverage (worse-case slab)\n",
    "    #     wsc_coverage = coverage.wsc_unbiased(X, Y, pred, M=100)\n",
    "\n",
    "    # Marginal length\n",
    "    lengths = pred_h-pred_l\n",
    "    length = np.mean(lengths)\n",
    "    # Length conditional on coverage\n",
    "    idx_cover = np.where(cover)[0]\n",
    "    length_cover = np.mean([lengths for i in idx_cover])\n",
    "\n",
    "    # Combine results\n",
    "    out = pd.DataFrame({'Coverage': [marg_coverage], 'Length': [length], 'Length cover': [length_cover]})\n",
    "    return out"
   ]
  },
  {
   "cell_type": "code",
   "execution_count": 33,
   "metadata": {},
   "outputs": [
    {
     "data": {
      "text/html": [
       "<div>\n",
       "<style scoped>\n",
       "    .dataframe tbody tr th:only-of-type {\n",
       "        vertical-align: middle;\n",
       "    }\n",
       "\n",
       "    .dataframe tbody tr th {\n",
       "        vertical-align: top;\n",
       "    }\n",
       "\n",
       "    .dataframe thead th {\n",
       "        text-align: right;\n",
       "    }\n",
       "</style>\n",
       "<table border=\"1\" class=\"dataframe\">\n",
       "  <thead>\n",
       "    <tr style=\"text-align: right;\">\n",
       "      <th></th>\n",
       "      <th>Coverage</th>\n",
       "      <th>Length</th>\n",
       "      <th>Length cover</th>\n",
       "    </tr>\n",
       "  </thead>\n",
       "  <tbody>\n",
       "    <tr>\n",
       "      <th>0</th>\n",
       "      <td>0.639537</td>\n",
       "      <td>2.252297</td>\n",
       "      <td>2.252298</td>\n",
       "    </tr>\n",
       "  </tbody>\n",
       "</table>\n",
       "</div>"
      ],
      "text/plain": [
       "   Coverage    Length  Length cover\n",
       "0  0.639537  2.252297      2.252298"
      ]
     },
     "execution_count": 33,
     "metadata": {},
     "output_type": "execute_result"
    }
   ],
   "source": [
    "evaluate_icp(y_pis_test, y_true_test)"
   ]
  },
  {
   "cell_type": "code",
   "execution_count": 34,
   "metadata": {},
   "outputs": [
    {
     "data": {
      "text/html": [
       "<div>\n",
       "<style scoped>\n",
       "    .dataframe tbody tr th:only-of-type {\n",
       "        vertical-align: middle;\n",
       "    }\n",
       "\n",
       "    .dataframe tbody tr th {\n",
       "        vertical-align: top;\n",
       "    }\n",
       "\n",
       "    .dataframe thead th {\n",
       "        text-align: right;\n",
       "    }\n",
       "</style>\n",
       "<table border=\"1\" class=\"dataframe\">\n",
       "  <thead>\n",
       "    <tr style=\"text-align: right;\">\n",
       "      <th></th>\n",
       "      <th>Coverage</th>\n",
       "      <th>Length</th>\n",
       "      <th>Length cover</th>\n",
       "    </tr>\n",
       "  </thead>\n",
       "  <tbody>\n",
       "    <tr>\n",
       "      <th>0</th>\n",
       "      <td>0.654423</td>\n",
       "      <td>2.297125</td>\n",
       "      <td>2.297125</td>\n",
       "    </tr>\n",
       "  </tbody>\n",
       "</table>\n",
       "</div>"
      ],
      "text/plain": [
       "   Coverage    Length  Length cover\n",
       "0  0.654423  2.297125      2.297125"
      ]
     },
     "execution_count": 34,
     "metadata": {},
     "output_type": "execute_result"
    }
   ],
   "source": [
    "evaluate_icp(y_pis_val, y_true_val)"
   ]
  },
  {
   "cell_type": "code",
   "execution_count": 35,
   "metadata": {},
   "outputs": [],
   "source": [
    "from chempropv2.utils import find_nearest\n",
    "\n",
    "# CQR error function\n",
    "class CQR_errfun:\n",
    "    \"\"\"Calculates conformalized quantile regression error.\n",
    "    Conformity scores:\n",
    "    .. math::\n",
    "    max{\\hat{q}_low - y, y - \\hat{q}_high}\n",
    "    \"\"\"\n",
    "\n",
    "    def __init__(self):\n",
    "        super(CQR_errfun, self).__init__()\n",
    "\n",
    "    def apply(self, prediction, y):\n",
    "        y_lower = prediction[:, 0]\n",
    "        y_upper = prediction[:, -1]\n",
    "        error_low = y_lower - y\n",
    "        error_high = y - y_upper\n",
    "        err = np.maximum(error_high, error_low)\n",
    "        return err\n",
    "\n",
    "    def apply_inverse(self, nc, alpha):\n",
    "        q = np.quantile(\n",
    "            nc, np.minimum(1.0, (1.0 - alpha) * (nc.shape[0] + 1.0) / nc.shape[0])\n",
    "        )\n",
    "        return np.vstack([q, q])\n",
    "\n",
    "\n",
    "def run_cqr(y_true_calib, y_preds_calib, y_pred_test, quantiles, alpha: float = 0.1):\n",
    "    # extract indexes of lower and upper \n",
    "    idx_lower = find_nearest(quantiles, alpha / 2.0)\n",
    "    idx_upper = find_nearest(quantiles, 1.0 - alpha / 2.0)\n",
    "    # extract prediction intervals of calibration set\n",
    "    y_pis_calib = y_preds_calib[:, [idx_lower, idx_upper]]\n",
    "    scorer = CQR_errfun()\n",
    "    scores = scorer.apply(y_pis_calib, y_true_calib)\n",
    "    score_correction = scorer.apply_inverse(scores, alpha)\n",
    "    y_pis_test = y_pred_test[:, [idx_lower, idx_upper]]\n",
    "    y_pis_test[:, 0] -= score_correction[0, 0]\n",
    "    y_pis_test[:, 1] += score_correction[1, 0]\n",
    "    return y_pis_test"
   ]
  },
  {
   "cell_type": "code",
   "execution_count": 38,
   "metadata": {},
   "outputs": [],
   "source": [
    "y_conf_test = run_cqr(y_true_val, y_preds_val, y_preds_test, quantiles)"
   ]
  },
  {
   "cell_type": "code",
   "execution_count": 39,
   "metadata": {},
   "outputs": [
    {
     "data": {
      "text/html": [
       "<div>\n",
       "<style scoped>\n",
       "    .dataframe tbody tr th:only-of-type {\n",
       "        vertical-align: middle;\n",
       "    }\n",
       "\n",
       "    .dataframe tbody tr th {\n",
       "        vertical-align: top;\n",
       "    }\n",
       "\n",
       "    .dataframe thead th {\n",
       "        text-align: right;\n",
       "    }\n",
       "</style>\n",
       "<table border=\"1\" class=\"dataframe\">\n",
       "  <thead>\n",
       "    <tr style=\"text-align: right;\">\n",
       "      <th></th>\n",
       "      <th>Coverage</th>\n",
       "      <th>Length</th>\n",
       "      <th>Length cover</th>\n",
       "    </tr>\n",
       "  </thead>\n",
       "  <tbody>\n",
       "    <tr>\n",
       "      <th>0</th>\n",
       "      <td>0.890904</td>\n",
       "      <td>3.837135</td>\n",
       "      <td>3.837135</td>\n",
       "    </tr>\n",
       "  </tbody>\n",
       "</table>\n",
       "</div>"
      ],
      "text/plain": [
       "   Coverage    Length  Length cover\n",
       "0  0.890904  3.837135      3.837135"
      ]
     },
     "execution_count": 39,
     "metadata": {},
     "output_type": "execute_result"
    }
   ],
   "source": [
    "evaluate_icp(y_conf_test, y_true_test)"
   ]
  },
  {
   "cell_type": "code",
   "execution_count": 40,
   "metadata": {},
   "outputs": [],
   "source": [
    "import math\n",
    "import torch\n",
    "import gpytorch\n",
    "from gpytorch.means import ConstantMean\n",
    "from gpytorch.kernels import ScaleKernel, RBFKernel, InducingPointKernel\n",
    "from gpytorch.distributions import MultivariateNormal"
   ]
  },
  {
   "cell_type": "code",
   "execution_count": 47,
   "metadata": {},
   "outputs": [],
   "source": [
    "class SparseGPRegressionModel(gpytorch.models.ExactGP):\n",
    "    def __init__(self, train_x, train_y, likelihood):\n",
    "        super(SparseGPRegressionModel, self).__init__(train_x, train_y, likelihood)\n",
    "        self.mean_module = ConstantMean()\n",
    "        self.base_covar_module = ScaleKernel(RBFKernel())\n",
    "        self.likelihood = gpytorch.likelihoods.GaussianLikelihood()\n",
    "        self.covar_module = InducingPointKernel(self.base_covar_module, \n",
    "                                                inducing_points=train_x[:100, :].clone(), \n",
    "                                                likelihood=likelihood)\n",
    "\n",
    "    def forward(self, x):\n",
    "        mean_x = self.mean_module(x)\n",
    "        covar_x = self.covar_module(x)\n",
    "        return MultivariateNormal(mean_x, covar_x)"
   ]
  },
  {
   "cell_type": "code",
   "execution_count": 92,
   "metadata": {},
   "outputs": [
    {
     "ename": "TypeError",
     "evalue": "expected np.ndarray (got Tensor)",
     "output_type": "error",
     "traceback": [
      "\u001b[0;31m---------------------------------------------------------------------------\u001b[0m",
      "\u001b[0;31mTypeError\u001b[0m                                 Traceback (most recent call last)",
      "Cell \u001b[0;32mIn[92], line 1\u001b[0m\n\u001b[0;32m----> 1\u001b[0m y_latns_val \u001b[39m=\u001b[39m torch\u001b[39m.\u001b[39;49mfrom_numpy(y_latns_val)\u001b[39m.\u001b[39mcontiguous()\u001b[39m.\u001b[39mcuda()\n\u001b[1;32m      2\u001b[0m y_true_val \u001b[39m=\u001b[39m torch\u001b[39m.\u001b[39mfrom_numpy(y_true_val)\u001b[39m.\u001b[39mcontiguous()\u001b[39m.\u001b[39mcuda()\n\u001b[1;32m      3\u001b[0m y_true_test \u001b[39m=\u001b[39m torch\u001b[39m.\u001b[39mfrom_numpy(y_true_val)\u001b[39m.\u001b[39msequeeze()\u001b[39m.\u001b[39mcuda()\n",
      "\u001b[0;31mTypeError\u001b[0m: expected np.ndarray (got Tensor)"
     ]
    }
   ],
   "source": [
    "y_latns_val = torch.from_numpy(y_latns_val)\n",
    "y_true_val = torch.from_numpy(y_true_val)\n",
    "y_latns_test = torch.from_numpy(y_latns_test)\n",
    "y_true_val = torch.from_numpy(y_true_val)"
   ]
  },
  {
   "cell_type": "code",
   "execution_count": 97,
   "metadata": {},
   "outputs": [
    {
     "ename": "TypeError",
     "evalue": "expected np.ndarray (got Tensor)",
     "output_type": "error",
     "traceback": [
      "\u001b[0;31m---------------------------------------------------------------------------\u001b[0m",
      "\u001b[0;31mTypeError\u001b[0m                                 Traceback (most recent call last)",
      "Cell \u001b[0;32mIn[97], line 1\u001b[0m\n\u001b[0;32m----> 1\u001b[0m y_true_test \u001b[39m=\u001b[39m torch\u001b[39m.\u001b[39;49mfrom_numpy(y_true_test)\u001b[39m.\u001b[39msqueeze()\u001b[39m.\u001b[39mcuda()\n\u001b[1;32m      2\u001b[0m y_true_test \u001b[39m=\u001b[39m y_true_test\u001b[39m.\u001b[39mtype(torch\u001b[39m.\u001b[39mcuda\u001b[39m.\u001b[39mFloatTensor)\n",
      "\u001b[0;31mTypeError\u001b[0m: expected np.ndarray (got Tensor)"
     ]
    }
   ],
   "source": [
    "y_true_test = torch.from_numpy(y_true_test).squeeze().cuda()"
   ]
  },
  {
   "cell_type": "code",
   "execution_count": 98,
   "metadata": {},
   "outputs": [],
   "source": [
    "y_true_test = y_true_test.type(torch.cuda.FloatTensor)"
   ]
  },
  {
   "cell_type": "code",
   "execution_count": 69,
   "metadata": {},
   "outputs": [
    {
     "data": {
      "text/plain": [
       "torch.Size([243, 300])"
      ]
     },
     "execution_count": 69,
     "metadata": {},
     "output_type": "execute_result"
    }
   ],
   "source": [
    "y_latns_val.shape"
   ]
  },
  {
   "cell_type": "code",
   "execution_count": 70,
   "metadata": {},
   "outputs": [
    {
     "data": {
      "text/plain": [
       "torch.Size([243, 1])"
      ]
     },
     "execution_count": 70,
     "metadata": {},
     "output_type": "execute_result"
    }
   ],
   "source": [
    "y_true_val.shape"
   ]
  },
  {
   "cell_type": "code",
   "execution_count": 71,
   "metadata": {},
   "outputs": [],
   "source": [
    "likelihood = gpytorch.likelihoods.GaussianLikelihood()\n",
    "model = SparseGPRegressionModel(y_latns_val, y_true_val, likelihood)"
   ]
  },
  {
   "cell_type": "code",
   "execution_count": 72,
   "metadata": {},
   "outputs": [],
   "source": [
    "if torch.cuda.is_available():\n",
    "    model = model.cuda()\n",
    "    likelihood = likelihood.cuda()"
   ]
  },
  {
   "cell_type": "code",
   "execution_count": 73,
   "metadata": {},
   "outputs": [],
   "source": [
    "training_iterations = 100"
   ]
  },
  {
   "cell_type": "code",
   "execution_count": 74,
   "metadata": {},
   "outputs": [],
   "source": [
    "# Find optimal model hyperparameters\n",
    "model.train()\n",
    "likelihood.train()\n",
    "\n",
    "# Use the adam optimizer\n",
    "optimizer = torch.optim.Adam(model.parameters(), lr=0.001)\n",
    "\n",
    "# \"Loss\" for GPs - the marginal log likelihood\n",
    "mll = gpytorch.mlls.ExactMarginalLogLikelihood(likelihood, model)"
   ]
  },
  {
   "cell_type": "code",
   "execution_count": 81,
   "metadata": {},
   "outputs": [],
   "source": [
    "y_true_val = y_true_val.squeeze()"
   ]
  },
  {
   "cell_type": "code",
   "execution_count": 82,
   "metadata": {},
   "outputs": [
    {
     "data": {
      "text/plain": [
       "torch.Size([243])"
      ]
     },
     "execution_count": 82,
     "metadata": {},
     "output_type": "execute_result"
    }
   ],
   "source": [
    "y_true_val.shape"
   ]
  },
  {
   "cell_type": "code",
   "execution_count": 90,
   "metadata": {},
   "outputs": [
    {
     "ename": "AttributeError",
     "evalue": "'numpy.ndarray' object has no attribute 'type'",
     "output_type": "error",
     "traceback": [
      "\u001b[0;31m---------------------------------------------------------------------------\u001b[0m",
      "\u001b[0;31mAttributeError\u001b[0m                            Traceback (most recent call last)",
      "Cell \u001b[0;32mIn[90], line 2\u001b[0m\n\u001b[1;32m      1\u001b[0m y_true_val \u001b[39m=\u001b[39m y_true_val\u001b[39m.\u001b[39mtype(torch\u001b[39m.\u001b[39mcuda\u001b[39m.\u001b[39mFloatTensor)\n\u001b[0;32m----> 2\u001b[0m y_true_test \u001b[39m=\u001b[39m y_true_test\u001b[39m.\u001b[39;49mtype(torch\u001b[39m.\u001b[39mcuda\u001b[39m.\u001b[39mFloatTensor)\n",
      "\u001b[0;31mAttributeError\u001b[0m: 'numpy.ndarray' object has no attribute 'type'"
     ]
    }
   ],
   "source": [
    "y_true_val = y_true_val.type(torch.cuda.FloatTensor)\n",
    "y_true_test = y_true_test.type(torch.cuda.FloatTensor)"
   ]
  },
  {
   "cell_type": "code",
   "execution_count": 89,
   "metadata": {},
   "outputs": [
    {
     "data": {
      "application/vnd.jupyter.widget-view+json": {
       "model_id": "995702a871fe45c4882ffabade4e38c8",
       "version_major": 2,
       "version_minor": 0
      },
      "text/plain": [
       "Train:   0%|          | 0/100 [00:00<?, ?it/s]"
      ]
     },
     "metadata": {},
     "output_type": "display_data"
    }
   ],
   "source": [
    "iterator = tqdm.tqdm(range(training_iterations), desc=\"Train\")\n",
    "\n",
    "for i in iterator:\n",
    "    # Zero backprop gradients\n",
    "    optimizer.zero_grad()\n",
    "    # Get output from model\n",
    "    output = model(y_latns_val)\n",
    "    # Calc loss and backprop derivatives\n",
    "    loss = -mll(output, y_true_val)\n",
    "    loss.backward()\n",
    "    iterator.set_postfix(loss=loss.item())\n",
    "    optimizer.step()\n",
    "    torch.cuda.empty_cache()"
   ]
  },
  {
   "cell_type": "code",
   "execution_count": 101,
   "metadata": {},
   "outputs": [
    {
     "ename": "RuntimeError",
     "evalue": "Flattening the training labels failed. The most common cause of this error is that the shapes of the prior mean and the training labels are mismatched. The shape of the train targets is torch.Size([243, 1]), while the reported shape of the mean is torch.Size([243]).",
     "output_type": "error",
     "traceback": [
      "\u001b[0;31m---------------------------------------------------------------------------\u001b[0m",
      "\u001b[0;31mRuntimeError\u001b[0m                              Traceback (most recent call last)",
      "File \u001b[0;32m~/miniconda3/envs/deepchem/lib/python3.9/site-packages/gpytorch/models/exact_prediction_strategies.py:47\u001b[0m, in \u001b[0;36mDefaultPredictionStrategy.__init__\u001b[0;34m(self, train_inputs, train_prior_dist, train_labels, likelihood, root, inv_root)\u001b[0m\n\u001b[1;32m     46\u001b[0m \u001b[39mtry\u001b[39;00m:\n\u001b[0;32m---> 47\u001b[0m     train_labels \u001b[39m=\u001b[39m train_labels\u001b[39m.\u001b[39;49mreshape(\n\u001b[1;32m     48\u001b[0m         \u001b[39m*\u001b[39;49mtrain_labels\u001b[39m.\u001b[39;49mshape[: \u001b[39m-\u001b[39;49m\u001b[39mlen\u001b[39;49m(\u001b[39mself\u001b[39;49m\u001b[39m.\u001b[39;49mtrain_shape)], \u001b[39mself\u001b[39;49m\u001b[39m.\u001b[39;49m_train_shape\u001b[39m.\u001b[39;49mnumel()\n\u001b[1;32m     49\u001b[0m     )\n\u001b[1;32m     50\u001b[0m \u001b[39mexcept\u001b[39;00m \u001b[39mRuntimeError\u001b[39;00m:\n",
      "\u001b[0;31mRuntimeError\u001b[0m: shape '[243, 243]' is invalid for input of size 243",
      "\nDuring handling of the above exception, another exception occurred:\n",
      "\u001b[0;31mRuntimeError\u001b[0m                              Traceback (most recent call last)",
      "Cell \u001b[0;32mIn[101], line 4\u001b[0m\n\u001b[1;32m      2\u001b[0m likelihood\u001b[39m.\u001b[39meval()\n\u001b[1;32m      3\u001b[0m \u001b[39mwith\u001b[39;00m torch\u001b[39m.\u001b[39mno_grad():\n\u001b[0;32m----> 4\u001b[0m     preds \u001b[39m=\u001b[39m model\u001b[39m.\u001b[39mlikelihood(model(y_true_test))\n",
      "File \u001b[0;32m~/miniconda3/envs/deepchem/lib/python3.9/site-packages/gpytorch/models/exact_gp.py:294\u001b[0m, in \u001b[0;36mExactGP.__call__\u001b[0;34m(self, *args, **kwargs)\u001b[0m\n\u001b[1;32m    291\u001b[0m     train_output \u001b[39m=\u001b[39m \u001b[39msuper\u001b[39m()\u001b[39m.\u001b[39m\u001b[39m__call__\u001b[39m(\u001b[39m*\u001b[39mtrain_inputs, \u001b[39m*\u001b[39m\u001b[39m*\u001b[39mkwargs)\n\u001b[1;32m    293\u001b[0m     \u001b[39m# Create the prediction strategy for\u001b[39;00m\n\u001b[0;32m--> 294\u001b[0m     \u001b[39mself\u001b[39m\u001b[39m.\u001b[39mprediction_strategy \u001b[39m=\u001b[39m prediction_strategy(\n\u001b[1;32m    295\u001b[0m         train_inputs\u001b[39m=\u001b[39;49mtrain_inputs,\n\u001b[1;32m    296\u001b[0m         train_prior_dist\u001b[39m=\u001b[39;49mtrain_output,\n\u001b[1;32m    297\u001b[0m         train_labels\u001b[39m=\u001b[39;49m\u001b[39mself\u001b[39;49m\u001b[39m.\u001b[39;49mtrain_targets,\n\u001b[1;32m    298\u001b[0m         likelihood\u001b[39m=\u001b[39;49m\u001b[39mself\u001b[39;49m\u001b[39m.\u001b[39;49mlikelihood,\n\u001b[1;32m    299\u001b[0m     )\n\u001b[1;32m    301\u001b[0m \u001b[39m# Concatenate the input to the training input\u001b[39;00m\n\u001b[1;32m    302\u001b[0m full_inputs \u001b[39m=\u001b[39m []\n",
      "File \u001b[0;32m~/miniconda3/envs/deepchem/lib/python3.9/site-packages/gpytorch/models/exact_prediction_strategies.py:37\u001b[0m, in \u001b[0;36mprediction_strategy\u001b[0;34m(train_inputs, train_prior_dist, train_labels, likelihood)\u001b[0m\n\u001b[1;32m     35\u001b[0m \u001b[39melse\u001b[39;00m:\n\u001b[1;32m     36\u001b[0m     \u001b[39mcls\u001b[39m \u001b[39m=\u001b[39m DefaultPredictionStrategy\n\u001b[0;32m---> 37\u001b[0m \u001b[39mreturn\u001b[39;00m \u001b[39mcls\u001b[39;49m(train_inputs, train_prior_dist, train_labels, likelihood)\n",
      "File \u001b[0;32m~/miniconda3/envs/deepchem/lib/python3.9/site-packages/gpytorch/kernels/inducing_point_kernel.py:149\u001b[0m, in \u001b[0;36mInducingPointKernel.prediction_strategy\u001b[0;34m(self, train_inputs, train_prior_dist, train_labels, likelihood)\u001b[0m\n\u001b[1;32m    147\u001b[0m \u001b[39mdef\u001b[39;00m \u001b[39mprediction_strategy\u001b[39m(\u001b[39mself\u001b[39m, train_inputs, train_prior_dist, train_labels, likelihood):\n\u001b[1;32m    148\u001b[0m     \u001b[39m# Allow for fast variances\u001b[39;00m\n\u001b[0;32m--> 149\u001b[0m     \u001b[39mreturn\u001b[39;00m exact_prediction_strategies\u001b[39m.\u001b[39;49mSGPRPredictionStrategy(\n\u001b[1;32m    150\u001b[0m         train_inputs, train_prior_dist, train_labels, likelihood\n\u001b[1;32m    151\u001b[0m     )\n",
      "File \u001b[0;32m~/miniconda3/envs/deepchem/lib/python3.9/site-packages/gpytorch/models/exact_prediction_strategies.py:51\u001b[0m, in \u001b[0;36mDefaultPredictionStrategy.__init__\u001b[0;34m(self, train_inputs, train_prior_dist, train_labels, likelihood, root, inv_root)\u001b[0m\n\u001b[1;32m     47\u001b[0m     train_labels \u001b[39m=\u001b[39m train_labels\u001b[39m.\u001b[39mreshape(\n\u001b[1;32m     48\u001b[0m         \u001b[39m*\u001b[39mtrain_labels\u001b[39m.\u001b[39mshape[: \u001b[39m-\u001b[39m\u001b[39mlen\u001b[39m(\u001b[39mself\u001b[39m\u001b[39m.\u001b[39mtrain_shape)], \u001b[39mself\u001b[39m\u001b[39m.\u001b[39m_train_shape\u001b[39m.\u001b[39mnumel()\n\u001b[1;32m     49\u001b[0m     )\n\u001b[1;32m     50\u001b[0m \u001b[39mexcept\u001b[39;00m \u001b[39mRuntimeError\u001b[39;00m:\n\u001b[0;32m---> 51\u001b[0m     \u001b[39mraise\u001b[39;00m \u001b[39mRuntimeError\u001b[39;00m(\n\u001b[1;32m     52\u001b[0m         \u001b[39m\"\u001b[39m\u001b[39mFlattening the training labels failed. The most common cause of this error is \u001b[39m\u001b[39m\"\u001b[39m\n\u001b[1;32m     53\u001b[0m         \u001b[39m+\u001b[39m \u001b[39m\"\u001b[39m\u001b[39mthat the shapes of the prior mean and the training labels are mismatched. \u001b[39m\u001b[39m\"\u001b[39m\n\u001b[1;32m     54\u001b[0m         \u001b[39m+\u001b[39m \u001b[39m\"\u001b[39m\u001b[39mThe shape of the train targets is \u001b[39m\u001b[39m{0}\u001b[39;00m\u001b[39m, \u001b[39m\u001b[39m\"\u001b[39m\u001b[39m.\u001b[39mformat(train_labels\u001b[39m.\u001b[39mshape)\n\u001b[1;32m     55\u001b[0m         \u001b[39m+\u001b[39m \u001b[39m\"\u001b[39m\u001b[39mwhile the reported shape of the mean is \u001b[39m\u001b[39m{0}\u001b[39;00m\u001b[39m.\u001b[39m\u001b[39m\"\u001b[39m\u001b[39m.\u001b[39mformat(train_prior_dist\u001b[39m.\u001b[39mmean\u001b[39m.\u001b[39mshape)\n\u001b[1;32m     56\u001b[0m     )\n\u001b[1;32m     58\u001b[0m \u001b[39mself\u001b[39m\u001b[39m.\u001b[39mtrain_inputs \u001b[39m=\u001b[39m train_inputs\n\u001b[1;32m     59\u001b[0m \u001b[39mself\u001b[39m\u001b[39m.\u001b[39mtrain_prior_dist \u001b[39m=\u001b[39m train_prior_dist\n",
      "\u001b[0;31mRuntimeError\u001b[0m: Flattening the training labels failed. The most common cause of this error is that the shapes of the prior mean and the training labels are mismatched. The shape of the train targets is torch.Size([243, 1]), while the reported shape of the mean is torch.Size([243])."
     ]
    }
   ],
   "source": [
    "model.eval()\n",
    "likelihood.eval()\n",
    "with torch.no_grad():\n",
    "    preds = model.likelihood(model(y_true_test))"
   ]
  },
  {
   "cell_type": "code",
   "execution_count": 100,
   "metadata": {},
   "outputs": [
    {
     "ename": "NameError",
     "evalue": "name 'preds' is not defined",
     "output_type": "error",
     "traceback": [
      "\u001b[0;31m---------------------------------------------------------------------------\u001b[0m",
      "\u001b[0;31mNameError\u001b[0m                                 Traceback (most recent call last)",
      "Cell \u001b[0;32mIn[100], line 1\u001b[0m\n\u001b[0;32m----> 1\u001b[0m preds\u001b[39m.\u001b[39mmean\n",
      "\u001b[0;31mNameError\u001b[0m: name 'preds' is not defined"
     ]
    }
   ],
   "source": [
    "preds.mean"
   ]
  },
  {
   "cell_type": "code",
   "execution_count": 78,
   "metadata": {},
   "outputs": [
    {
     "name": "stdout",
     "output_type": "stream",
     "text": [
      "Downloading 'elevators' UCI dataset...\n"
     ]
    },
    {
     "ename": "ValueError",
     "evalue": "Unknown mat file type, version 108, 59",
     "output_type": "error",
     "traceback": [
      "\u001b[0;31m---------------------------------------------------------------------------\u001b[0m",
      "\u001b[0;31mValueError\u001b[0m                                Traceback (most recent call last)",
      "Cell \u001b[0;32mIn[78], line 19\u001b[0m\n\u001b[1;32m     17\u001b[0m     X, y \u001b[39m=\u001b[39m torch\u001b[39m.\u001b[39mrandn(\u001b[39m1000\u001b[39m, \u001b[39m3\u001b[39m), torch\u001b[39m.\u001b[39mrandn(\u001b[39m1000\u001b[39m)\n\u001b[1;32m     18\u001b[0m \u001b[39melse\u001b[39;00m:\n\u001b[0;32m---> 19\u001b[0m     data \u001b[39m=\u001b[39m torch\u001b[39m.\u001b[39mTensor(loadmat(\u001b[39m'\u001b[39;49m\u001b[39m../elevators.mat\u001b[39;49m\u001b[39m'\u001b[39;49m)[\u001b[39m'\u001b[39m\u001b[39mdata\u001b[39m\u001b[39m'\u001b[39m])\n\u001b[1;32m     20\u001b[0m     X \u001b[39m=\u001b[39m data[:, :\u001b[39m-\u001b[39m\u001b[39m1\u001b[39m]\n\u001b[1;32m     21\u001b[0m     X \u001b[39m=\u001b[39m X \u001b[39m-\u001b[39m X\u001b[39m.\u001b[39mmin(\u001b[39m0\u001b[39m)[\u001b[39m0\u001b[39m]\n",
      "File \u001b[0;32m~/miniconda3/envs/deepchem/lib/python3.9/site-packages/scipy/io/matlab/_mio.py:226\u001b[0m, in \u001b[0;36mloadmat\u001b[0;34m(file_name, mdict, appendmat, **kwargs)\u001b[0m\n\u001b[1;32m    224\u001b[0m variable_names \u001b[39m=\u001b[39m kwargs\u001b[39m.\u001b[39mpop(\u001b[39m'\u001b[39m\u001b[39mvariable_names\u001b[39m\u001b[39m'\u001b[39m, \u001b[39mNone\u001b[39;00m)\n\u001b[1;32m    225\u001b[0m \u001b[39mwith\u001b[39;00m _open_file_context(file_name, appendmat) \u001b[39mas\u001b[39;00m f:\n\u001b[0;32m--> 226\u001b[0m     MR, _ \u001b[39m=\u001b[39m mat_reader_factory(f, \u001b[39m*\u001b[39;49m\u001b[39m*\u001b[39;49mkwargs)\n\u001b[1;32m    227\u001b[0m     matfile_dict \u001b[39m=\u001b[39m MR\u001b[39m.\u001b[39mget_variables(variable_names)\n\u001b[1;32m    229\u001b[0m \u001b[39mif\u001b[39;00m mdict \u001b[39mis\u001b[39;00m \u001b[39mnot\u001b[39;00m \u001b[39mNone\u001b[39;00m:\n",
      "File \u001b[0;32m~/miniconda3/envs/deepchem/lib/python3.9/site-packages/scipy/io/matlab/_mio.py:74\u001b[0m, in \u001b[0;36mmat_reader_factory\u001b[0;34m(file_name, appendmat, **kwargs)\u001b[0m\n\u001b[1;32m     54\u001b[0m \u001b[39m\u001b[39m\u001b[39m\"\"\"\u001b[39;00m\n\u001b[1;32m     55\u001b[0m \u001b[39mCreate reader for matlab .mat format files.\u001b[39;00m\n\u001b[1;32m     56\u001b[0m \n\u001b[0;32m   (...)\u001b[0m\n\u001b[1;32m     71\u001b[0m \n\u001b[1;32m     72\u001b[0m \u001b[39m\"\"\"\u001b[39;00m\n\u001b[1;32m     73\u001b[0m byte_stream, file_opened \u001b[39m=\u001b[39m _open_file(file_name, appendmat)\n\u001b[0;32m---> 74\u001b[0m mjv, mnv \u001b[39m=\u001b[39m _get_matfile_version(byte_stream)\n\u001b[1;32m     75\u001b[0m \u001b[39mif\u001b[39;00m mjv \u001b[39m==\u001b[39m \u001b[39m0\u001b[39m:\n\u001b[1;32m     76\u001b[0m     \u001b[39mreturn\u001b[39;00m MatFile4Reader(byte_stream, \u001b[39m*\u001b[39m\u001b[39m*\u001b[39mkwargs), file_opened\n",
      "File \u001b[0;32m~/miniconda3/envs/deepchem/lib/python3.9/site-packages/scipy/io/matlab/_miobase.py:251\u001b[0m, in \u001b[0;36m_get_matfile_version\u001b[0;34m(fileobj)\u001b[0m\n\u001b[1;32m    249\u001b[0m \u001b[39mif\u001b[39;00m maj_val \u001b[39min\u001b[39;00m (\u001b[39m1\u001b[39m, \u001b[39m2\u001b[39m):\n\u001b[1;32m    250\u001b[0m     \u001b[39mreturn\u001b[39;00m ret\n\u001b[0;32m--> 251\u001b[0m \u001b[39mraise\u001b[39;00m \u001b[39mValueError\u001b[39;00m(\u001b[39m'\u001b[39m\u001b[39mUnknown mat file type, version \u001b[39m\u001b[39m%s\u001b[39;00m\u001b[39m, \u001b[39m\u001b[39m%s\u001b[39;00m\u001b[39m'\u001b[39m \u001b[39m%\u001b[39m ret)\n",
      "\u001b[0;31mValueError\u001b[0m: Unknown mat file type, version 108, 59"
     ]
    }
   ],
   "source": [
    "import urllib.request\n",
    "import os\n",
    "from scipy.io import loadmat\n",
    "from math import floor\n",
    "\n",
    "\n",
    "# this is for running the notebook in our testing framework\n",
    "smoke_test = False\n",
    "\n",
    "\n",
    "if not smoke_test and not os.path.isfile('./elevators.mat'):\n",
    "    print('Downloading \\'elevators\\' UCI dataset...')\n",
    "    urllib.request.urlretrieve('https://drive.google.com/uc?export=download&id=1jhWL3YUHvXIaftia4qeAyDwVxo6j1alk', '../elevators.mat')\n",
    "\n",
    "\n",
    "if smoke_test:  # this is for running the notebook in our testing framework\n",
    "    X, y = torch.randn(1000, 3), torch.randn(1000)\n",
    "else:\n",
    "    data = torch.Tensor(loadmat('../elevators.mat')['data'])\n",
    "    X = data[:, :-1]\n",
    "    X = X - X.min(0)[0]\n",
    "    X = 2 * (X / X.max(0)[0]) - 1\n",
    "    y = data[:, -1]\n",
    "\n",
    "\n",
    "train_n = int(floor(0.8 * len(X)))\n",
    "train_x = X[:train_n, :].contiguous()\n",
    "train_y = y[:train_n].contiguous()\n",
    "\n",
    "test_x = X[train_n:, :].contiguous()\n",
    "test_y = y[train_n:].contiguous()\n",
    "\n",
    "if torch.cuda.is_available():\n",
    "    train_x, train_y, test_x, test_y = train_x.cuda(), train_y.cuda(), test_x.cuda(), test_y.cuda()"
   ]
  },
  {
   "cell_type": "code",
   "execution_count": null,
   "metadata": {},
   "outputs": [],
   "source": []
  }
 ],
 "metadata": {
  "kernelspec": {
   "display_name": "deepchem",
   "language": "python",
   "name": "python3"
  },
  "language_info": {
   "codemirror_mode": {
    "name": "ipython",
    "version": 3
   },
   "file_extension": ".py",
   "mimetype": "text/x-python",
   "name": "python",
   "nbconvert_exporter": "python",
   "pygments_lexer": "ipython3",
   "version": "3.9.16"
  },
  "orig_nbformat": 4
 },
 "nbformat": 4,
 "nbformat_minor": 2
}
